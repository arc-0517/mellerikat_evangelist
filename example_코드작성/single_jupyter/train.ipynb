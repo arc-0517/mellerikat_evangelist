{
 "cells": [
  {
   "cell_type": "markdown",
   "id": "18cd0399-ef8b-443e-a213-f6dee9fbfd87",
   "metadata": {},
   "source": [
    "#### train.ipynb 역할"
   ]
  },
  {
   "cell_type": "markdown",
   "id": "ecbadf07-44c7-4778-9e23-e2d167bb8fb3",
   "metadata": {},
   "source": [
    "train.ipynb은 아래와 같은 기능이 코드로 구현되어 있습니다.\n",
    "1. requirements : 필요 라이브러리\n",
    "2. arguments : 필요 설정 값\n",
    "3. data load : 학습용 데이터 로드\n",
    "4. train/validset define : 학습/검증용 데이터셋 정의\n",
    "5. model define & training : AI 모델 정의 및 학습\n",
    "6. model evaulation : validset을 대상으로 AI 모델 성능 평가\n",
    "7. model save : 최적의 모델 저장"
   ]
  },
  {
   "cell_type": "markdown",
   "id": "89487981-66bb-4cf4-8427-1a952b33d63e",
   "metadata": {},
   "source": [
    "### requirements"
   ]
  },
  {
   "cell_type": "code",
   "execution_count": 56,
   "id": "19d72a05-0e93-4335-8c8e-4e63deebec07",
   "metadata": {},
   "outputs": [],
   "source": [
    "import os\n",
    "import argparse\n",
    "import pandas as pd\n",
    "import numpy as np\n",
    "import joblib\n",
    "\n",
    "from sklearn.model_selection import train_test_split\n",
    "from sklearn.ensemble import RandomForestClassifier\n",
    "\n",
    "from sklearn.metrics import accuracy_score, f1_score"
   ]
  },
  {
   "cell_type": "markdown",
   "id": "07cfeaf9-3afa-4f39-b553-b267a7a9b3a9",
   "metadata": {},
   "source": [
    "### arguments"
   ]
  },
  {
   "cell_type": "code",
   "execution_count": 57,
   "id": "d7cdf53a-c0f0-4684-bbf8-6a62f618488b",
   "metadata": {},
   "outputs": [],
   "source": [
    "parser = argparse.ArgumentParser(description='classification using wine data')\n",
    "\n",
    "# base\n",
    "parser.add_argument('--random_state', type=int, default=0, help='랜덤 시드값')\n",
    "\n",
    "# data\n",
    "parser.add_argument('--data_dir', type=str, default='./dataset', help='데이터 경로')\n",
    "parser.add_argument('--file_name', type=str, default='train', help='데이터 파일 이름')\n",
    "parser.add_argument('--target', type=str, default='quality', help='타겟 컬럼명')\n",
    "\n",
    "# train setting\n",
    "parser.add_argument('--train_ratio', type=float, default=0.6, help='전체 데이터셋 중 학습 데이터셋 비율')\n",
    "parser.add_argument('--ckpt_dir', type=str, default='./save_dir', help='모델 저장 경로')\n",
    "\n",
    "args = parser.parse_args('')  # running in ipynb"
   ]
  },
  {
   "cell_type": "markdown",
   "id": "17e0ef9b-42b4-4260-bf3b-54f4e8392d04",
   "metadata": {},
   "source": [
    "### data load"
   ]
  },
  {
   "cell_type": "code",
   "execution_count": 58,
   "id": "79e4b43c-7fbe-4979-bbdd-e391167b6284",
   "metadata": {},
   "outputs": [
    {
     "data": {
      "text/html": [
       "<div>\n",
       "<style scoped>\n",
       "    .dataframe tbody tr th:only-of-type {\n",
       "        vertical-align: middle;\n",
       "    }\n",
       "\n",
       "    .dataframe tbody tr th {\n",
       "        vertical-align: top;\n",
       "    }\n",
       "\n",
       "    .dataframe thead th {\n",
       "        text-align: right;\n",
       "    }\n",
       "</style>\n",
       "<table border=\"1\" class=\"dataframe\">\n",
       "  <thead>\n",
       "    <tr style=\"text-align: right;\">\n",
       "      <th></th>\n",
       "      <th>fixed acidity</th>\n",
       "      <th>volatile acidity</th>\n",
       "      <th>citric acid</th>\n",
       "      <th>residual sugar</th>\n",
       "      <th>chlorides</th>\n",
       "      <th>free sulfur dioxide</th>\n",
       "      <th>total sulfur dioxide</th>\n",
       "      <th>density</th>\n",
       "      <th>pH</th>\n",
       "      <th>sulphates</th>\n",
       "      <th>alcohol</th>\n",
       "      <th>quality</th>\n",
       "    </tr>\n",
       "  </thead>\n",
       "  <tbody>\n",
       "    <tr>\n",
       "      <th>0</th>\n",
       "      <td>7.4</td>\n",
       "      <td>0.70</td>\n",
       "      <td>0.00</td>\n",
       "      <td>1.9</td>\n",
       "      <td>0.076</td>\n",
       "      <td>11.0</td>\n",
       "      <td>34.0</td>\n",
       "      <td>0.9978</td>\n",
       "      <td>3.51</td>\n",
       "      <td>0.56</td>\n",
       "      <td>9.4</td>\n",
       "      <td>5</td>\n",
       "    </tr>\n",
       "    <tr>\n",
       "      <th>1</th>\n",
       "      <td>7.8</td>\n",
       "      <td>0.88</td>\n",
       "      <td>0.00</td>\n",
       "      <td>2.6</td>\n",
       "      <td>0.098</td>\n",
       "      <td>25.0</td>\n",
       "      <td>67.0</td>\n",
       "      <td>0.9968</td>\n",
       "      <td>3.20</td>\n",
       "      <td>0.68</td>\n",
       "      <td>9.8</td>\n",
       "      <td>5</td>\n",
       "    </tr>\n",
       "    <tr>\n",
       "      <th>2</th>\n",
       "      <td>7.8</td>\n",
       "      <td>0.76</td>\n",
       "      <td>0.04</td>\n",
       "      <td>2.3</td>\n",
       "      <td>0.092</td>\n",
       "      <td>15.0</td>\n",
       "      <td>54.0</td>\n",
       "      <td>0.9970</td>\n",
       "      <td>3.26</td>\n",
       "      <td>0.65</td>\n",
       "      <td>9.8</td>\n",
       "      <td>5</td>\n",
       "    </tr>\n",
       "  </tbody>\n",
       "</table>\n",
       "</div>"
      ],
      "text/plain": [
       "   fixed acidity  volatile acidity  citric acid  residual sugar  chlorides  \\\n",
       "0            7.4              0.70         0.00             1.9      0.076   \n",
       "1            7.8              0.88         0.00             2.6      0.098   \n",
       "2            7.8              0.76         0.04             2.3      0.092   \n",
       "\n",
       "   free sulfur dioxide  total sulfur dioxide  density    pH  sulphates  \\\n",
       "0                 11.0                  34.0   0.9978  3.51       0.56   \n",
       "1                 25.0                  67.0   0.9968  3.20       0.68   \n",
       "2                 15.0                  54.0   0.9970  3.26       0.65   \n",
       "\n",
       "   alcohol  quality  \n",
       "0      9.4        5  \n",
       "1      9.8        5  \n",
       "2      9.8        5  "
      ]
     },
     "execution_count": 58,
     "metadata": {},
     "output_type": "execute_result"
    }
   ],
   "source": [
    "# 데이터셋 로드\n",
    "data = pd.read_csv(os.path.join(args.data_dir, f'{args.file_name}.csv'))\n",
    "\n",
    "# 데이터셋 샘플 확인\n",
    "data.head(3)"
   ]
  },
  {
   "cell_type": "markdown",
   "id": "d3b18b74-dc6e-4331-bf92-6a8c36b797df",
   "metadata": {},
   "source": [
    "### train/validset define"
   ]
  },
  {
   "cell_type": "code",
   "execution_count": 59,
   "id": "c73f52f2-e57c-4d78-9d99-f0df110f737e",
   "metadata": {},
   "outputs": [],
   "source": [
    "# 독립변수/종속변수 정의\n",
    "X = data.drop([args.target], axis=1)\n",
    "y = data[args.target]\n",
    "\n",
    "# 학습(train)/검증(valid) 데이터셋 정의\n",
    "X_train, X_valid, y_train, y_valid = train_test_split(X,\n",
    "                                                      y,\n",
    "                                                      test_size=(1-args.train_ratio),\n",
    "                                                      shuffle=False,\n",
    "                                                      random_state=args.random_state)"
   ]
  },
  {
   "cell_type": "code",
   "execution_count": 60,
   "id": "4c819522-3754-4f26-add3-e580bc8ee0ae",
   "metadata": {},
   "outputs": [
    {
     "name": "stdout",
     "output_type": "stream",
     "text": [
      "학습용 데이터셋 - X shape:(959, 11) / y shape:(959,)\n",
      "검증용 데이터셋 - X shape:(640, 11) / y shape:(640,)\n"
     ]
    }
   ],
   "source": [
    "print(f\"학습용 데이터셋 - X shape:{X_train.shape} / y shape:{y_train.shape}\")\n",
    "print(f\"검증용 데이터셋 - X shape:{X_valid.shape} / y shape:{y_valid.shape}\")"
   ]
  },
  {
   "cell_type": "markdown",
   "id": "b81f323f-df2b-472a-b1b8-4e04da082605",
   "metadata": {},
   "source": [
    "### model define & training"
   ]
  },
  {
   "cell_type": "code",
   "execution_count": 61,
   "id": "78b13c8f-d920-4cd3-92f4-ad220fcc0947",
   "metadata": {},
   "outputs": [
    {
     "data": {
      "text/plain": [
       "RandomForestClassifier()"
      ]
     },
     "execution_count": 61,
     "metadata": {},
     "output_type": "execute_result"
    }
   ],
   "source": [
    "# 램덤포레스트 모델 정의\n",
    "model = RandomForestClassifier(n_estimators=100, max_depth=None, max_leaf_nodes=None)\n",
    "\n",
    "# 랜덤포레스트 모델 학습\n",
    "model.fit(X_train, y_train)"
   ]
  },
  {
   "cell_type": "markdown",
   "id": "6bf1a8a7-9902-4248-9588-8e21bc61db82",
   "metadata": {},
   "source": [
    "### model evaluation"
   ]
  },
  {
   "cell_type": "code",
   "execution_count": 62,
   "id": "34e57508-b96b-4b45-b5cd-b08201b10dec",
   "metadata": {},
   "outputs": [
    {
     "data": {
      "text/plain": [
       "{'acc': 0.603125, 'f1': 0.29224009370452886}"
      ]
     },
     "execution_count": 62,
     "metadata": {},
     "output_type": "execute_result"
    }
   ],
   "source": [
    "# prediction\n",
    "y_pred = model.predict(X_test)\n",
    "\n",
    "# evaluation by metrics\n",
    "result = {'acc': accuracy_score(y_test, y_pred),\n",
    "          'f1': f1_score(y_test, y_pred, average='macro')}\n",
    "\n",
    "result"
   ]
  },
  {
   "cell_type": "markdown",
   "id": "a96b9308-5b21-42a1-9cef-0ede39756561",
   "metadata": {},
   "source": [
    "### model save"
   ]
  },
  {
   "cell_type": "code",
   "execution_count": 63,
   "id": "dcdb9792-fd27-445d-99bc-8c4b71b715ea",
   "metadata": {},
   "outputs": [
    {
     "data": {
      "text/plain": [
       "['./save_dir/model/best_model.joblib']"
      ]
     },
     "execution_count": 63,
     "metadata": {},
     "output_type": "execute_result"
    }
   ],
   "source": [
    "model_save_dir = os.path.join(args.ckpt_dir, \"model\")\n",
    "os.makedirs(model_save_dir, exist_ok=True)\n",
    "\n",
    "joblib.dump(model, os.path.join(model_save_dir, \"best_model.joblib\"))"
   ]
  }
 ],
 "metadata": {
  "kernelspec": {
   "display_name": "keewon",
   "language": "python",
   "name": "keewon"
  },
  "language_info": {
   "codemirror_mode": {
    "name": "ipython",
    "version": 3
   },
   "file_extension": ".py",
   "mimetype": "text/x-python",
   "name": "python",
   "nbconvert_exporter": "python",
   "pygments_lexer": "ipython3",
   "version": "3.7.6"
  }
 },
 "nbformat": 4,
 "nbformat_minor": 5
}
