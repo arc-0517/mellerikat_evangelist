{
 "cells": [
  {
   "cell_type": "markdown",
   "id": "18cd0399-ef8b-443e-a213-f6dee9fbfd87",
   "metadata": {},
   "source": [
    "### inference.ipynb"
   ]
  },
  {
   "cell_type": "markdown",
   "id": "db3b37a0-9bc7-41fb-a7b3-711fc40e9056",
   "metadata": {},
   "source": [
    "inference.ipynb은 아래와 같은 기능이 코드로 구현되어 있습니다.\n",
    "1. requirements : 필요 라이브러리\n",
    "2. arguments : 필요 설정 값\n",
    "3. data load : 추론용 데이터 로드\n",
    "4. model load : 학습 파이프라인을 통해 저장된 AI 모델 로드\n",
    "5. model inference : 추론용 데이터 대상으로 AI 모델 예측값 산출\n",
    "6. result save : 필요한 추론 결과물 저장"
   ]
  },
  {
   "cell_type": "markdown",
   "id": "0daddad6-f63c-47ac-bb5d-1604b2a63dc0",
   "metadata": {},
   "source": [
    "### requirements"
   ]
  },
  {
   "cell_type": "code",
   "execution_count": 4,
   "id": "19d72a05-0e93-4335-8c8e-4e63deebec07",
   "metadata": {},
   "outputs": [],
   "source": [
    "import os\n",
    "import argparse\n",
    "import pandas as pd\n",
    "import numpy as np\n",
    "import joblib\n",
    "\n",
    "from sklearn.model_selection import train_test_split\n",
    "from sklearn.ensemble import RandomForestClassifier\n",
    "\n",
    "from sklearn.metrics import accuracy_score, f1_score"
   ]
  },
  {
   "cell_type": "markdown",
   "id": "07cfeaf9-3afa-4f39-b553-b267a7a9b3a9",
   "metadata": {},
   "source": [
    "### arguments"
   ]
  },
  {
   "cell_type": "code",
   "execution_count": 5,
   "id": "d7cdf53a-c0f0-4684-bbf8-6a62f618488b",
   "metadata": {},
   "outputs": [],
   "source": [
    "parser = argparse.ArgumentParser(description='classification using wine data')\n",
    "\n",
    "# base\n",
    "parser.add_argument('--ckpt_dir', type=str, default='./save_dir', help='모델 저장 경로')\n",
    "\n",
    "# data\n",
    "parser.add_argument('--data_dir', type=str, default='./dataset', help='데이터 경로')\n",
    "parser.add_argument('--file_name', type=str, default='inference', help='데이터 파일 이름')\n",
    "\n",
    "# model name\n",
    "parser.add_argument('--model_file', type=str, default='best_model.joblib', help='저장된 모델 파일명')\n",
    "\n",
    "\n",
    "args = parser.parse_args('')  # running in ipynb"
   ]
  },
  {
   "cell_type": "markdown",
   "id": "17e0ef9b-42b4-4260-bf3b-54f4e8392d04",
   "metadata": {},
   "source": [
    "### data load"
   ]
  },
  {
   "cell_type": "code",
   "execution_count": 6,
   "id": "79e4b43c-7fbe-4979-bbdd-e391167b6284",
   "metadata": {},
   "outputs": [
    {
     "data": {
      "text/html": [
       "<div>\n",
       "<style scoped>\n",
       "    .dataframe tbody tr th:only-of-type {\n",
       "        vertical-align: middle;\n",
       "    }\n",
       "\n",
       "    .dataframe tbody tr th {\n",
       "        vertical-align: top;\n",
       "    }\n",
       "\n",
       "    .dataframe thead th {\n",
       "        text-align: right;\n",
       "    }\n",
       "</style>\n",
       "<table border=\"1\" class=\"dataframe\">\n",
       "  <thead>\n",
       "    <tr style=\"text-align: right;\">\n",
       "      <th></th>\n",
       "      <th>fixed acidity</th>\n",
       "      <th>volatile acidity</th>\n",
       "      <th>citric acid</th>\n",
       "      <th>residual sugar</th>\n",
       "      <th>chlorides</th>\n",
       "      <th>free sulfur dioxide</th>\n",
       "      <th>total sulfur dioxide</th>\n",
       "      <th>density</th>\n",
       "      <th>pH</th>\n",
       "      <th>sulphates</th>\n",
       "      <th>alcohol</th>\n",
       "    </tr>\n",
       "  </thead>\n",
       "  <tbody>\n",
       "    <tr>\n",
       "      <th>0</th>\n",
       "      <td>7.7</td>\n",
       "      <td>0.270</td>\n",
       "      <td>0.68</td>\n",
       "      <td>3.5</td>\n",
       "      <td>0.358</td>\n",
       "      <td>5.0</td>\n",
       "      <td>10.0</td>\n",
       "      <td>0.99720</td>\n",
       "      <td>3.25</td>\n",
       "      <td>1.08</td>\n",
       "      <td>9.9</td>\n",
       "    </tr>\n",
       "    <tr>\n",
       "      <th>1</th>\n",
       "      <td>7.3</td>\n",
       "      <td>0.735</td>\n",
       "      <td>0.00</td>\n",
       "      <td>2.2</td>\n",
       "      <td>0.080</td>\n",
       "      <td>18.0</td>\n",
       "      <td>28.0</td>\n",
       "      <td>0.99765</td>\n",
       "      <td>3.41</td>\n",
       "      <td>0.60</td>\n",
       "      <td>9.4</td>\n",
       "    </tr>\n",
       "    <tr>\n",
       "      <th>2</th>\n",
       "      <td>5.4</td>\n",
       "      <td>0.740</td>\n",
       "      <td>0.09</td>\n",
       "      <td>1.7</td>\n",
       "      <td>0.089</td>\n",
       "      <td>16.0</td>\n",
       "      <td>26.0</td>\n",
       "      <td>0.99402</td>\n",
       "      <td>3.67</td>\n",
       "      <td>0.56</td>\n",
       "      <td>11.6</td>\n",
       "    </tr>\n",
       "  </tbody>\n",
       "</table>\n",
       "</div>"
      ],
      "text/plain": [
       "   fixed acidity  volatile acidity  citric acid  residual sugar  chlorides  \\\n",
       "0            7.7             0.270         0.68             3.5      0.358   \n",
       "1            7.3             0.735         0.00             2.2      0.080   \n",
       "2            5.4             0.740         0.09             1.7      0.089   \n",
       "\n",
       "   free sulfur dioxide  total sulfur dioxide  density    pH  sulphates  \\\n",
       "0                  5.0                  10.0  0.99720  3.25       1.08   \n",
       "1                 18.0                  28.0  0.99765  3.41       0.60   \n",
       "2                 16.0                  26.0  0.99402  3.67       0.56   \n",
       "\n",
       "   alcohol  \n",
       "0      9.9  \n",
       "1      9.4  \n",
       "2     11.6  "
      ]
     },
     "execution_count": 6,
     "metadata": {},
     "output_type": "execute_result"
    }
   ],
   "source": [
    "# 데이터셋 로드\n",
    "data = pd.read_csv(os.path.join(args.data_dir, f'{args.file_name}.csv'))\n",
    "\n",
    "# 데이터셋 샘플 확인\n",
    "data.head(3)"
   ]
  },
  {
   "cell_type": "markdown",
   "id": "d3b18b74-dc6e-4331-bf92-6a8c36b797df",
   "metadata": {},
   "source": [
    "### model load"
   ]
  },
  {
   "cell_type": "code",
   "execution_count": 9,
   "id": "c73f52f2-e57c-4d78-9d99-f0df110f737e",
   "metadata": {},
   "outputs": [],
   "source": [
    "model = joblib.load(os.path.join(args.ckpt_dir, \"model\", args.model_file))"
   ]
  },
  {
   "cell_type": "markdown",
   "id": "b49b15bc-8c11-40f0-88ee-578f379d13d3",
   "metadata": {},
   "source": [
    "### model inference"
   ]
  },
  {
   "cell_type": "code",
   "execution_count": 21,
   "id": "72f9e133-e4a6-4712-8435-199fca13e1b0",
   "metadata": {},
   "outputs": [],
   "source": [
    "prediction = model.predict(data)\n",
    "predict_probability = model.predict_proba(data)\n",
    "class_probability = np.max(predict_probability, axis=1)"
   ]
  },
  {
   "cell_type": "code",
   "execution_count": 22,
   "id": "6c6248cb-3425-415f-a750-567386ce454b",
   "metadata": {},
   "outputs": [],
   "source": [
    "data['pred_class'] = prediction\n",
    "data['pred_proba'] = class_probability"
   ]
  },
  {
   "cell_type": "markdown",
   "id": "6bf1a8a7-9902-4248-9588-8e21bc61db82",
   "metadata": {},
   "source": [
    "### result save"
   ]
  },
  {
   "cell_type": "code",
   "execution_count": 25,
   "id": "34e57508-b96b-4b45-b5cd-b08201b10dec",
   "metadata": {},
   "outputs": [],
   "source": [
    "output_dir = os.path.join(args.ckpt_dir, \"output\")\n",
    "os.makedirs(output_dir, exist_ok=True)\n",
    "\n",
    "data.to_csv(os.path.join(output_dir, \"results.csv\"))"
   ]
  }
 ],
 "metadata": {
  "kernelspec": {
   "display_name": "keewon",
   "language": "python",
   "name": "keewon"
  },
  "language_info": {
   "codemirror_mode": {
    "name": "ipython",
    "version": 3
   },
   "file_extension": ".py",
   "mimetype": "text/x-python",
   "name": "python",
   "nbconvert_exporter": "python",
   "pygments_lexer": "ipython3",
   "version": "3.7.6"
  }
 },
 "nbformat": 4,
 "nbformat_minor": 5
}
